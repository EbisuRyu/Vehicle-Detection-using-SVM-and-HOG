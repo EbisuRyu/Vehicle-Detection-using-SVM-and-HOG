{
 "cells": [
  {
   "cell_type": "code",
   "execution_count": 4,
   "metadata": {},
   "outputs": [],
   "source": [
    "from script.model_localization import pyramid, sliding_window, iou_bbox, non_maximum_supperssion, visualize_bbox\n",
    "from script.model_classification import SVMObjectClassifier\n",
    "from sklearn.model_selection import train_test_split\n",
    "from script.dataset import load_vehicle_dataset\n",
    "from script.feature_source import FeatureExtracter\n",
    "from script.training import training_model\n",
    "from script.slider import Slider\n",
    "import numpy as np\n",
    "import argparse\n",
    "import time\n",
    "import cv2\n",
    "import os"
   ]
  },
  {
   "cell_type": "code",
   "execution_count": 5,
   "metadata": {},
   "outputs": [],
   "source": [
    "sourcer_params = {\n",
    "  'color_model': 'yuv',                # hls, hsv, yuv, ycrcb \n",
    "  'orientations': 9,        # 6 - 12\n",
    "  'pixels_per_cell': 8,               # 8, 16\n",
    "  'cells_per_block': 2,                # 1, 2\n",
    "  'transform_sqrt': True,\n",
    "  'block_norm': 'L2'\n",
    "}\n",
    "\n",
    "save_path = './save_model'\n",
    "feature_extracter = FeatureExtracter(**sourcer_params)"
   ]
  },
  {
   "cell_type": "code",
   "execution_count": 6,
   "metadata": {},
   "outputs": [
    {
     "name": "stdout",
     "output_type": "stream",
     "text": [
      "Loaded dataset in 4.52 seconds\n",
      "Vehicle images shape:  (8792, 64, 64, 3)\n",
      "Non-vehicle images shape:  (8968, 64, 64, 3)\n",
      "17760 17760\n"
     ]
    }
   ],
   "source": [
    "X, y = load_vehicle_dataset()\n",
    "print(len(X), len(y))\n",
    "X_train, X_test, y_train, y_test = train_test_split(X, y, test_size=0.3, random_state=42, shuffle=True)"
   ]
  },
  {
   "cell_type": "code",
   "execution_count": 7,
   "metadata": {},
   "outputs": [
    {
     "name": "stdout",
     "output_type": "stream",
     "text": [
      "Loaded dataset in 4.51 seconds\n",
      "Vehicle images shape:  (8792, 64, 64, 3)\n",
      "Non-vehicle images shape:  (8968, 64, 64, 3)\n",
      "Loading model...\n",
      "Evaluating...\n"
     ]
    },
    {
     "name": "stderr",
     "output_type": "stream",
     "text": [
      "c:\\Users\\LONG\\anaconda3\\envs\\object-detection\\Lib\\site-packages\\sklearn\\base.py:376: InconsistentVersionWarning: Trying to unpickle estimator LinearSVC from version 1.4.1.post1 when using version 1.4.2. This might lead to breaking code or invalid results. Use at your own risk. For more info please refer to:\n",
      "https://scikit-learn.org/stable/model_persistence.html#security-maintainability-limitations\n",
      "  warnings.warn(\n",
      "c:\\Users\\LONG\\anaconda3\\envs\\object-detection\\Lib\\site-packages\\sklearn\\base.py:376: InconsistentVersionWarning: Trying to unpickle estimator StandardScaler from version 1.4.1.post1 when using version 1.4.2. This might lead to breaking code or invalid results. Use at your own risk. For more info please refer to:\n",
      "https://scikit-learn.org/stable/model_persistence.html#security-maintainability-limitations\n",
      "  warnings.warn(\n",
      "c:\\Users\\LONG\\anaconda3\\envs\\object-detection\\Lib\\site-packages\\sklearn\\base.py:376: InconsistentVersionWarning: Trying to unpickle estimator LabelEncoder from version 1.4.1.post1 when using version 1.4.2. This might lead to breaking code or invalid results. Use at your own risk. For more info please refer to:\n",
      "https://scikit-learn.org/stable/model_persistence.html#security-maintainability-limitations\n",
      "  warnings.warn(\n"
     ]
    },
    {
     "name": "stdout",
     "output_type": "stream",
     "text": [
      "Accuracy on validation dataset: 0.99\n"
     ]
    }
   ],
   "source": [
    "X, y = load_vehicle_dataset()\n",
    "feature_extracter = FeatureExtracter(**sourcer_params)\n",
    "model = training_model(X, y, feature_extracter, './save_model', evaluate=True)"
   ]
  }
 ],
 "metadata": {
  "kernelspec": {
   "display_name": "object-detection",
   "language": "python",
   "name": "python3"
  },
  "language_info": {
   "codemirror_mode": {
    "name": "ipython",
    "version": 3
   },
   "file_extension": ".py",
   "mimetype": "text/x-python",
   "name": "python",
   "nbconvert_exporter": "python",
   "pygments_lexer": "ipython3",
   "version": "3.12.3"
  }
 },
 "nbformat": 4,
 "nbformat_minor": 2
}
