{
 "cells": [
  {
   "cell_type": "code",
   "execution_count": 1,
   "metadata": {},
   "outputs": [],
   "source": [
    "from script.model_localization import pyramid, sliding_window, iou_bbox, non_maximum_supperssion, visualize_bbox\n",
    "from script.model_classification import SVMObjectClassifier\n",
    "from sklearn.model_selection import train_test_split\n",
    "from script.dataset import load_vehicle_dataset, load_traffic_signboard_dataset\n",
    "from script.feature_source import FeatureExtracter\n",
    "from script.training import training_model\n",
    "from script.slider import Slider\n",
    "import numpy as np\n",
    "import argparse\n",
    "import time\n",
    "import cv2\n",
    "import os"
   ]
  },
  {
   "cell_type": "code",
   "execution_count": 3,
   "metadata": {},
   "outputs": [],
   "source": [
    "sourcer_params = {               # hls, hsv, yuv, ycrcb \n",
    "  'spatial_size': (32, 32),            # (16, 16), (32, 32), (64, 64)\n",
    "  'orientations': 9,        # 6 - 12\n",
    "  'pixels_per_cell': 8,               # 8, 16\n",
    "  'cells_per_block': 2,                # 1, 2\n",
    "  'transform_sqrt': True,\n",
    "  'block_norm': 'L2',\n",
    "  'hog_visualize': False\n",
    "}\n",
    "sourcer = FeatureExtracter(**sourcer_params)\n",
    "save_path = './save_model'"
   ]
  },
  {
   "cell_type": "code",
   "execution_count": 4,
   "metadata": {},
   "outputs": [
    {
     "name": "stdout",
     "output_type": "stream",
     "text": [
      "Number of objects:  1074\n",
      "Classes:  ['stop', 'crosswalk', 'speedlimit']\n",
      "1074 1074\n"
     ]
    }
   ],
   "source": [
    "X, y = load_traffic_signboard_dataset()\n",
    "print(len(X), len(y))\n",
    "X_train, X_test, y_train, y_test = train_test_split(X, y, test_size=0.3, random_state=42, shuffle=True)"
   ]
  },
  {
   "cell_type": "code",
   "execution_count": 5,
   "metadata": {},
   "outputs": [
    {
     "name": "stdout",
     "output_type": "stream",
     "text": [
      "Training...\n",
      "['crosswalk' 'speedlimit' 'stop']\n",
      "Saving model...\n",
      "Evaluating...\n",
      "Accuracy on validation dataset: 0.97\n"
     ]
    }
   ],
   "source": [
    "feature_extracter = FeatureExtracter(**sourcer_params)\n",
    "model = training_model(X, y, feature_extracter, './save_model', test_size = 0.1, evaluate=True)"
   ]
  }
 ],
 "metadata": {
  "kernelspec": {
   "display_name": "object-detection",
   "language": "python",
   "name": "python3"
  },
  "language_info": {
   "codemirror_mode": {
    "name": "ipython",
    "version": 3
   },
   "file_extension": ".py",
   "mimetype": "text/x-python",
   "name": "python",
   "nbconvert_exporter": "python",
   "pygments_lexer": "ipython3",
   "version": "3.12.3"
  }
 },
 "nbformat": 4,
 "nbformat_minor": 2
}
