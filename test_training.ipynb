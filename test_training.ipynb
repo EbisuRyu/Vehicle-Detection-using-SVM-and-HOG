{
 "cells": [
  {
   "cell_type": "code",
   "execution_count": 1,
   "metadata": {},
   "outputs": [],
   "source": [
    "from script.model_localization import pyramid, sliding_window, iou_bbox, non_maximum_supperssion, visualize_bbox\n",
    "from script.model_classification import SVMObjectClassifier\n",
    "from sklearn.model_selection import train_test_split\n",
    "from script.dataset import load_vehicle_dataset, load_traffic_signboard_dataset\n",
    "from script.feature_source import FeatureExtracter\n",
    "from script.training import training_model\n",
    "from sklearn.metrics import classification_report\n",
    "from script.augmentation import generate_images\n",
    "import matplotlib.pyplot as plt\n",
    "from collections import Counter\n",
    "from script.slider import Slider\n",
    "import pandas as pd\n",
    "import numpy as np\n",
    "import argparse\n",
    "import time\n",
    "import cv2\n",
    "import os\n",
    "import random\n",
    "\n",
    "random.seed(42)"
   ]
  },
  {
   "cell_type": "markdown",
   "metadata": {},
   "source": [
    "# Original"
   ]
  },
  {
   "cell_type": "code",
   "execution_count": 2,
   "metadata": {},
   "outputs": [
    {
     "name": "stdout",
     "output_type": "stream",
     "text": [
      "Number of objects:  1074\n",
      "Classes:  ['stop', 'speedlimit', 'crosswalk']\n"
     ]
    },
    {
     "data": {
      "image/png": "[encoded data removed]",
      "text/plain": [
       "<Figure size 500x200 with 1 Axes>"
      ]
     },
     "metadata": {},
     "output_type": "display_data"
    }
   ],
   "source": [
    "# Load dữ liệu từ tập dữ liệu biển báo giao thông\n",
    "X, y = load_traffic_signboard_dataset()\n",
    "# Tạo Series và đếm số lần xuất hiện của các giá trị\n",
    "count_series = pd.Series(y).value_counts()\n",
    "# Vẽ biểu đồ thanh\n",
    "ax = count_series.plot(kind='bar', title='Traffic Signboard Distribution', figsize=(5, 2))\n",
    "# Chỉnh nhãn trục x thành viết ngang\n",
    "plt.xticks(rotation=0)\n",
    "# Hiển thị biểu đồ\n",
    "plt.show()"
   ]
  },
  {
   "cell_type": "code",
   "execution_count": 3,
   "metadata": {},
   "outputs": [],
   "source": [
    "sourcer_params = {               # hls, hsv, yuv, ycrcb \n",
    "  'spatial_size': (32, 32),            # (16, 16), (32, 32), (64, 64)\n",
    "  'orientations': 9,        # 6 - 12\n",
    "  'pixels_per_cell': 8,               # 8, 16\n",
    "  'cells_per_block': 2,                # 1, 2\n",
    "  'transform_sqrt': True,\n",
    "  'block_norm': 'L2',\n",
    "  'hog_visualize': False\n",
    "}\n",
    "save_path = './save_model'\n",
    "X_train, X_test, y_train, y_test = train_test_split(X, y, test_size=0.3, random_state=42, shuffle=True)\n",
    "acc_report = pd.DataFrame(columns=['0.1', '0.3', '0.5', '0.7', '0.9'], index=['linear', 'poly', 'rbf', 'sigmoid'])\n",
    "precision_report = pd.DataFrame(columns=['0.1', '0.3', '0.5', '0.7', '0.9'], index=['linear', 'poly', 'rbf', 'sigmoid'])\n",
    "recall_report = pd.DataFrame(columns=['0.1', '0.3', '0.5', '0.7', '0.9'], index=['linear', 'poly', 'rbf', 'sigmoid'])\n",
    "f1_report = pd.DataFrame(columns=['0.1', '0.3', '0.5', '0.7', '0.9'], index=['linear', 'poly', 'rbf', 'sigmoid'])\n",
    "\n",
    "C_list = [0.1, 0.3, 0.5, 0.7, 0.9]\n",
    "kernel_list = ['linear', 'poly', 'rbf', 'sigmoid']"
   ]
  },
  {
   "cell_type": "code",
   "execution_count": 4,
   "metadata": {},
   "outputs": [],
   "source": [
    "for kernel in kernel_list:\n",
    "    for C in C_list:\n",
    "        feature_extracter = FeatureExtracter(**sourcer_params)\n",
    "        model = SVMObjectClassifier(kernel=kernel, C=C)\n",
    "        model.set_feature_extracter(feature_extracter)\n",
    "        #print('Training...')\n",
    "        model.train(X_train, y_train)\n",
    "        #print('Evaluating...')\n",
    "        y_pred_labels = model.predict(X_test)[1]\n",
    "        report = classification_report(y_test, y_pred_labels, labels=list(set(y_test)), output_dict=True)\n",
    "        acc_report.loc[kernel, str(C)] = report['accuracy']\n",
    "        precision_report.loc[kernel, str(C)] = report['weighted avg']['precision']\n",
    "        recall_report.loc[kernel, str(C)] = report['weighted avg']['recall']\n",
    "        f1_report.loc[kernel, str(C)] = report['weighted avg']['f1-score']"
   ]
  },
  {
   "cell_type": "code",
   "execution_count": 5,
   "metadata": {},
   "outputs": [
    {
     "data": {
      "text/html": [
       "<div>\n",
       "<style scoped>\n",
       "    .dataframe tbody tr th:only-of-type {\n",
       "        vertical-align: middle;\n",
       "    }\n",
       "\n",
       "    .dataframe tbody tr th {\n",
       "        vertical-align: top;\n",
       "    }\n",
       "\n",
       "    .dataframe thead th {\n",
       "        text-align: right;\n",
       "    }\n",
       "</style>\n",
       "<table border=\"1\" class=\"dataframe\">\n",
       "  <thead>\n",
       "    <tr style=\"text-align: right;\">\n",
       "      <th></th>\n",
       "      <th>0.1</th>\n",
       "      <th>0.3</th>\n",
       "      <th>0.5</th>\n",
       "      <th>0.7</th>\n",
       "      <th>0.9</th>\n",
       "    </tr>\n",
       "  </thead>\n",
       "  <tbody>\n",
       "    <tr>\n",
       "      <th>linear</th>\n",
       "      <td>0.990712</td>\n",
       "      <td>0.990712</td>\n",
       "      <td>0.990712</td>\n",
       "      <td>0.990712</td>\n",
       "      <td>0.990712</td>\n",
       "    </tr>\n",
       "    <tr>\n",
       "      <th>poly</th>\n",
       "      <td>0.990712</td>\n",
       "      <td>0.990712</td>\n",
       "      <td>0.990712</td>\n",
       "      <td>0.990712</td>\n",
       "      <td>0.990712</td>\n",
       "    </tr>\n",
       "    <tr>\n",
       "      <th>rbf</th>\n",
       "      <td>0.987616</td>\n",
       "      <td>0.987616</td>\n",
       "      <td>0.987616</td>\n",
       "      <td>0.987616</td>\n",
       "      <td>0.987616</td>\n",
       "    </tr>\n",
       "    <tr>\n",
       "      <th>sigmoid</th>\n",
       "      <td>0.987616</td>\n",
       "      <td>0.98452</td>\n",
       "      <td>0.98452</td>\n",
       "      <td>0.98452</td>\n",
       "      <td>0.978328</td>\n",
       "    </tr>\n",
       "  </tbody>\n",
       "</table>\n",
       "</div>"
      ],
      "text/plain": [
       "              0.1       0.3       0.5       0.7       0.9\n",
       "linear   0.990712  0.990712  0.990712  0.990712  0.990712\n",
       "poly     0.990712  0.990712  0.990712  0.990712  0.990712\n",
       "rbf      0.987616  0.987616  0.987616  0.987616  0.987616\n",
       "sigmoid  0.987616   0.98452   0.98452   0.98452  0.978328"
      ]
     },
     "execution_count": 5,
     "metadata": {},
     "output_type": "execute_result"
    }
   ],
   "source": [
    "acc_report"
   ]
  },
  {
   "cell_type": "code",
   "execution_count": 6,
   "metadata": {},
   "outputs": [
    {
     "data": {
      "text/html": [
       "<div>\n",
       "<style scoped>\n",
       "    .dataframe tbody tr th:only-of-type {\n",
       "        vertical-align: middle;\n",
       "    }\n",
       "\n",
       "    .dataframe tbody tr th {\n",
       "        vertical-align: top;\n",
       "    }\n",
       "\n",
       "    .dataframe thead th {\n",
       "        text-align: right;\n",
       "    }\n",
       "</style>\n",
       "<table border=\"1\" class=\"dataframe\">\n",
       "  <thead>\n",
       "    <tr style=\"text-align: right;\">\n",
       "      <th></th>\n",
       "      <th>0.1</th>\n",
       "      <th>0.3</th>\n",
       "      <th>0.5</th>\n",
       "      <th>0.7</th>\n",
       "      <th>0.9</th>\n",
       "    </tr>\n",
       "  </thead>\n",
       "  <tbody>\n",
       "    <tr>\n",
       "      <th>linear</th>\n",
       "      <td>0.990836</td>\n",
       "      <td>0.990836</td>\n",
       "      <td>0.990836</td>\n",
       "      <td>0.990836</td>\n",
       "      <td>0.990836</td>\n",
       "    </tr>\n",
       "    <tr>\n",
       "      <th>poly</th>\n",
       "      <td>0.990674</td>\n",
       "      <td>0.990674</td>\n",
       "      <td>0.990674</td>\n",
       "      <td>0.990674</td>\n",
       "      <td>0.990674</td>\n",
       "    </tr>\n",
       "    <tr>\n",
       "      <th>rbf</th>\n",
       "      <td>0.988028</td>\n",
       "      <td>0.988028</td>\n",
       "      <td>0.988028</td>\n",
       "      <td>0.988028</td>\n",
       "      <td>0.987851</td>\n",
       "    </tr>\n",
       "    <tr>\n",
       "      <th>sigmoid</th>\n",
       "      <td>0.987546</td>\n",
       "      <td>0.984546</td>\n",
       "      <td>0.984546</td>\n",
       "      <td>0.984861</td>\n",
       "      <td>0.978282</td>\n",
       "    </tr>\n",
       "  </tbody>\n",
       "</table>\n",
       "</div>"
      ],
      "text/plain": [
       "              0.1       0.3       0.5       0.7       0.9\n",
       "linear   0.990836  0.990836  0.990836  0.990836  0.990836\n",
       "poly     0.990674  0.990674  0.990674  0.990674  0.990674\n",
       "rbf      0.988028  0.988028  0.988028  0.988028  0.987851\n",
       "sigmoid  0.987546  0.984546  0.984546  0.984861  0.978282"
      ]
     },
     "execution_count": 6,
     "metadata": {},
     "output_type": "execute_result"
    }
   ],
   "source": [
    "precision_report"
   ]
  },
  {
   "cell_type": "code",
   "execution_count": 7,
   "metadata": {},
   "outputs": [
    {
     "data": {
      "text/html": [
       "<div>\n",
       "<style scoped>\n",
       "    .dataframe tbody tr th:only-of-type {\n",
       "        vertical-align: middle;\n",
       "    }\n",
       "\n",
       "    .dataframe tbody tr th {\n",
       "        vertical-align: top;\n",
       "    }\n",
       "\n",
       "    .dataframe thead th {\n",
       "        text-align: right;\n",
       "    }\n",
       "</style>\n",
       "<table border=\"1\" class=\"dataframe\">\n",
       "  <thead>\n",
       "    <tr style=\"text-align: right;\">\n",
       "      <th></th>\n",
       "      <th>0.1</th>\n",
       "      <th>0.3</th>\n",
       "      <th>0.5</th>\n",
       "      <th>0.7</th>\n",
       "      <th>0.9</th>\n",
       "    </tr>\n",
       "  </thead>\n",
       "  <tbody>\n",
       "    <tr>\n",
       "      <th>linear</th>\n",
       "      <td>0.990712</td>\n",
       "      <td>0.990712</td>\n",
       "      <td>0.990712</td>\n",
       "      <td>0.990712</td>\n",
       "      <td>0.990712</td>\n",
       "    </tr>\n",
       "    <tr>\n",
       "      <th>poly</th>\n",
       "      <td>0.990712</td>\n",
       "      <td>0.990712</td>\n",
       "      <td>0.990712</td>\n",
       "      <td>0.990712</td>\n",
       "      <td>0.990712</td>\n",
       "    </tr>\n",
       "    <tr>\n",
       "      <th>rbf</th>\n",
       "      <td>0.987616</td>\n",
       "      <td>0.987616</td>\n",
       "      <td>0.987616</td>\n",
       "      <td>0.987616</td>\n",
       "      <td>0.987616</td>\n",
       "    </tr>\n",
       "    <tr>\n",
       "      <th>sigmoid</th>\n",
       "      <td>0.987616</td>\n",
       "      <td>0.98452</td>\n",
       "      <td>0.98452</td>\n",
       "      <td>0.98452</td>\n",
       "      <td>0.978328</td>\n",
       "    </tr>\n",
       "  </tbody>\n",
       "</table>\n",
       "</div>"
      ],
      "text/plain": [
       "              0.1       0.3       0.5       0.7       0.9\n",
       "linear   0.990712  0.990712  0.990712  0.990712  0.990712\n",
       "poly     0.990712  0.990712  0.990712  0.990712  0.990712\n",
       "rbf      0.987616  0.987616  0.987616  0.987616  0.987616\n",
       "sigmoid  0.987616   0.98452   0.98452   0.98452  0.978328"
      ]
     },
     "execution_count": 7,
     "metadata": {},
     "output_type": "execute_result"
    }
   ],
   "source": [
    "recall_report"
   ]
  },
  {
   "cell_type": "code",
   "execution_count": 8,
   "metadata": {},
   "outputs": [
    {
     "data": {
      "text/html": [
       "<div>\n",
       "<style scoped>\n",
       "    .dataframe tbody tr th:only-of-type {\n",
       "        vertical-align: middle;\n",
       "    }\n",
       "\n",
       "    .dataframe tbody tr th {\n",
       "        vertical-align: top;\n",
       "    }\n",
       "\n",
       "    .dataframe thead th {\n",
       "        text-align: right;\n",
       "    }\n",
       "</style>\n",
       "<table border=\"1\" class=\"dataframe\">\n",
       "  <thead>\n",
       "    <tr style=\"text-align: right;\">\n",
       "      <th></th>\n",
       "      <th>0.1</th>\n",
       "      <th>0.3</th>\n",
       "      <th>0.5</th>\n",
       "      <th>0.7</th>\n",
       "      <th>0.9</th>\n",
       "    </tr>\n",
       "  </thead>\n",
       "  <tbody>\n",
       "    <tr>\n",
       "      <th>linear</th>\n",
       "      <td>0.990529</td>\n",
       "      <td>0.990529</td>\n",
       "      <td>0.990529</td>\n",
       "      <td>0.990529</td>\n",
       "      <td>0.990529</td>\n",
       "    </tr>\n",
       "    <tr>\n",
       "      <th>poly</th>\n",
       "      <td>0.990645</td>\n",
       "      <td>0.990645</td>\n",
       "      <td>0.990645</td>\n",
       "      <td>0.990645</td>\n",
       "      <td>0.990645</td>\n",
       "    </tr>\n",
       "    <tr>\n",
       "      <th>rbf</th>\n",
       "      <td>0.987334</td>\n",
       "      <td>0.987334</td>\n",
       "      <td>0.987334</td>\n",
       "      <td>0.987334</td>\n",
       "      <td>0.987289</td>\n",
       "    </tr>\n",
       "    <tr>\n",
       "      <th>sigmoid</th>\n",
       "      <td>0.987448</td>\n",
       "      <td>0.984341</td>\n",
       "      <td>0.984341</td>\n",
       "      <td>0.984208</td>\n",
       "      <td>0.978027</td>\n",
       "    </tr>\n",
       "  </tbody>\n",
       "</table>\n",
       "</div>"
      ],
      "text/plain": [
       "              0.1       0.3       0.5       0.7       0.9\n",
       "linear   0.990529  0.990529  0.990529  0.990529  0.990529\n",
       "poly     0.990645  0.990645  0.990645  0.990645  0.990645\n",
       "rbf      0.987334  0.987334  0.987334  0.987334  0.987289\n",
       "sigmoid  0.987448  0.984341  0.984341  0.984208  0.978027"
      ]
     },
     "execution_count": 8,
     "metadata": {},
     "output_type": "execute_result"
    }
   ],
   "source": [
    "f1_report"
   ]
  },
  {
   "cell_type": "code",
   "execution_count": 9,
   "metadata": {},
   "outputs": [
    {
     "name": "stdout",
     "output_type": "stream",
     "text": [
      "Training...\n",
      "Evaluating...\n",
      "Accuracy on validation dataset: 0.98\n",
      "Saving model...\n"
     ]
    }
   ],
   "source": [
    "feature_extracter = FeatureExtracter(**sourcer_params)\n",
    "model = SVMObjectClassifier(kernel='rbf', C=0.5)\n",
    "model.set_feature_extracter(feature_extracter)\n",
    "print('Training...')\n",
    "model.train(X_train, y_train)\n",
    "print('Evaluating...')\n",
    "model.evaluate(X_test, y_test)\n",
    "print('Saving model...')\n",
    "model.save(save_path)"
   ]
  },
  {
   "cell_type": "markdown",
   "metadata": {},
   "source": [
    "# Resampling"
   ]
  },
  {
   "cell_type": "code",
   "execution_count": 12,
   "metadata": {},
   "outputs": [
    {
     "name": "stdout",
     "output_type": "stream",
     "text": [
      "Number of objects:  1074\n",
      "Classes:  ['speedlimit', 'stop', 'crosswalk']\n"
     ]
    },
    {
     "data": {
      "image/png": "[encoded data removed]",
      "text/plain": [
       "<Figure size 500x200 with 1 Axes>"
      ]
     },
     "metadata": {},
     "output_type": "display_data"
    }
   ],
   "source": [
    "# Load dữ liệu từ tập dữ liệu biển báo giao thông\n",
    "X, y = load_traffic_signboard_dataset()\n",
    "# Tạo Series và đếm số lần xuất hiện của các giá trị\n",
    "count_series = pd.Series(y).value_counts()\n",
    "# Vẽ biểu đồ thanh\n",
    "ax = count_series.plot(kind='bar', title='Traffic Signboard Distribution', figsize=(5, 2))\n",
    "# Chỉnh nhãn trục x thành viết ngang\n",
    "plt.xticks(rotation=0)\n",
    "# Hiển thị biểu đồ\n",
    "plt.show()"
   ]
  },
  {
   "cell_type": "code",
   "execution_count": 13,
   "metadata": {},
   "outputs": [
    {
     "data": {
      "image/png": "[encoded data removed]",
      "text/plain": [
       "<Figure size 500x200 with 1 Axes>"
      ]
     },
     "metadata": {},
     "output_type": "display_data"
    }
   ],
   "source": [
    "# Tạo danh sách các ảnh biển báo \"crosswalk\"\n",
    "X_crosswalk = [X[index] for index in range(len(y)) if y[index] == \"crosswalk\"]\n",
    "\n",
    "# Tạo danh sách các ảnh biển báo \"stop\"\n",
    "X_stop = [X[index] for index in range(len(y)) if y[index] == \"stop\"]\n",
    "\n",
    "# Tính chiều dài mong muốn cho danh sách các ảnh \"crosswalk\" và \"stop\"\n",
    "crosswalk_desired_length = count_series.max() - len(X_crosswalk)\n",
    "stop_desired_length = count_series.max() - len(X_stop)\n",
    "\n",
    "# Tạo ảnh tăng cường cho danh sách ảnh \"crosswalk\" và \"stop\"\n",
    "X_crosswalk_sub = generate_images(X_crosswalk, crosswalk_desired_length, augmented=False, plot=False)\n",
    "X_stop_sub = generate_images(X_stop, stop_desired_length, augmented=False, plot=False)\n",
    "\n",
    "# Tạo nhãn mới cho các ảnh tăng cường\n",
    "y_crosswalk_sub = [\"crosswalk\"] * len(X_crosswalk_sub)\n",
    "y_stop_sub = [\"stop\"] * len(X_stop_sub)\n",
    "\n",
    "# Kết hợp danh sách ảnh gốc và ảnh tăng cường\n",
    "X = X + X_crosswalk_sub + X_stop_sub\n",
    "y = y + y_crosswalk_sub + y_stop_sub\n",
    "\n",
    "# Tạo Series và đếm số lần xuất hiện của các giá trị\n",
    "count_series = pd.Series(y).value_counts()\n",
    "\n",
    "# Vẽ biểu đồ thanh\n",
    "ax = count_series.plot(kind='bar', title='Traffic Signboard Distribution', figsize=(5, 2))\n",
    "\n",
    "# Chỉnh nhãn trục x thành viết ngang\n",
    "plt.xticks(rotation=0)\n",
    "\n",
    "# Hiển thị biểu đồ\n",
    "plt.show()"
   ]
  },
  {
   "cell_type": "code",
   "execution_count": 14,
   "metadata": {},
   "outputs": [],
   "source": [
    "sourcer_params = {               # hls, hsv, yuv, ycrcb \n",
    "  'spatial_size': (32, 32),            # (16, 16), (32, 32), (64, 64)\n",
    "  'orientations': 9,        # 6 - 12\n",
    "  'pixels_per_cell': 8,               # 8, 16\n",
    "  'cells_per_block': 2,                # 1, 2\n",
    "  'transform_sqrt': True,\n",
    "  'block_norm': 'L2',\n",
    "  'hog_visualize': False\n",
    "}\n",
    "save_path = './save_model'\n",
    "X_train, X_test, y_train, y_test = train_test_split(X, y, test_size=0.3, random_state=42, shuffle=True)\n",
    "acc_report = pd.DataFrame(columns=['0.1', '0.3', '0.5', '0.7', '0.9'], index=['linear', 'poly', 'rbf', 'sigmoid'])\n",
    "precision_report = pd.DataFrame(columns=['0.1', '0.3', '0.5', '0.7', '0.9'], index=['linear', 'poly', 'rbf', 'sigmoid'])\n",
    "recall_report = pd.DataFrame(columns=['0.1', '0.3', '0.5', '0.7', '0.9'], index=['linear', 'poly', 'rbf', 'sigmoid'])\n",
    "f1_report = pd.DataFrame(columns=['0.1', '0.3', '0.5', '0.7', '0.9'], index=['linear', 'poly', 'rbf', 'sigmoid'])\n",
    "\n",
    "C_list = [0.1, 0.3, 0.5, 0.7, 0.9]\n",
    "kernel_list = ['linear', 'poly', 'rbf', 'sigmoid']"
   ]
  },
  {
   "cell_type": "code",
   "execution_count": 15,
   "metadata": {},
   "outputs": [],
   "source": [
    "for kernel in kernel_list:\n",
    "    for C in C_list:\n",
    "        feature_extracter = FeatureExtracter(**sourcer_params)\n",
    "        model = SVMObjectClassifier(kernel=kernel, C=C)\n",
    "        model.set_feature_extracter(feature_extracter)\n",
    "        #print('Training...')\n",
    "        model.train(X_train, y_train)\n",
    "        #print('Evaluating...')\n",
    "        y_pred_labels = model.predict(X_test)[1]\n",
    "        report = classification_report(y_test, y_pred_labels, labels=list(set(y_test)), output_dict=True)\n",
    "        acc_report.loc[kernel, str(C)] = report['accuracy']\n",
    "        precision_report.loc[kernel, str(C)] = report['weighted avg']['precision']\n",
    "        recall_report.loc[kernel, str(C)] = report['weighted avg']['recall']\n",
    "        f1_report.loc[kernel, str(C)] = report['weighted avg']['f1-score']"
   ]
  },
  {
   "cell_type": "code",
   "execution_count": 16,
   "metadata": {},
   "outputs": [
    {
     "data": {
      "text/html": [
       "<div>\n",
       "<style scoped>\n",
       "    .dataframe tbody tr th:only-of-type {\n",
       "        vertical-align: middle;\n",
       "    }\n",
       "\n",
       "    .dataframe tbody tr th {\n",
       "        vertical-align: top;\n",
       "    }\n",
       "\n",
       "    .dataframe thead th {\n",
       "        text-align: right;\n",
       "    }\n",
       "</style>\n",
       "<table border=\"1\" class=\"dataframe\">\n",
       "  <thead>\n",
       "    <tr style=\"text-align: right;\">\n",
       "      <th></th>\n",
       "      <th>0.1</th>\n",
       "      <th>0.3</th>\n",
       "      <th>0.5</th>\n",
       "      <th>0.7</th>\n",
       "      <th>0.9</th>\n",
       "    </tr>\n",
       "  </thead>\n",
       "  <tbody>\n",
       "    <tr>\n",
       "      <th>linear</th>\n",
       "      <td>0.998582</td>\n",
       "      <td>0.998582</td>\n",
       "      <td>0.998582</td>\n",
       "      <td>0.998582</td>\n",
       "      <td>0.998582</td>\n",
       "    </tr>\n",
       "    <tr>\n",
       "      <th>poly</th>\n",
       "      <td>0.997163</td>\n",
       "      <td>0.998582</td>\n",
       "      <td>1.0</td>\n",
       "      <td>1.0</td>\n",
       "      <td>1.0</td>\n",
       "    </tr>\n",
       "    <tr>\n",
       "      <th>rbf</th>\n",
       "      <td>0.991489</td>\n",
       "      <td>0.997163</td>\n",
       "      <td>0.997163</td>\n",
       "      <td>0.997163</td>\n",
       "      <td>0.997163</td>\n",
       "    </tr>\n",
       "    <tr>\n",
       "      <th>sigmoid</th>\n",
       "      <td>0.997163</td>\n",
       "      <td>0.998582</td>\n",
       "      <td>0.998582</td>\n",
       "      <td>0.998582</td>\n",
       "      <td>0.998582</td>\n",
       "    </tr>\n",
       "  </tbody>\n",
       "</table>\n",
       "</div>"
      ],
      "text/plain": [
       "              0.1       0.3       0.5       0.7       0.9\n",
       "linear   0.998582  0.998582  0.998582  0.998582  0.998582\n",
       "poly     0.997163  0.998582       1.0       1.0       1.0\n",
       "rbf      0.991489  0.997163  0.997163  0.997163  0.997163\n",
       "sigmoid  0.997163  0.998582  0.998582  0.998582  0.998582"
      ]
     },
     "execution_count": 16,
     "metadata": {},
     "output_type": "execute_result"
    }
   ],
   "source": [
    "acc_report"
   ]
  },
  {
   "cell_type": "code",
   "execution_count": 17,
   "metadata": {},
   "outputs": [
    {
     "data": {
      "text/html": [
       "<div>\n",
       "<style scoped>\n",
       "    .dataframe tbody tr th:only-of-type {\n",
       "        vertical-align: middle;\n",
       "    }\n",
       "\n",
       "    .dataframe tbody tr th {\n",
       "        vertical-align: top;\n",
       "    }\n",
       "\n",
       "    .dataframe thead th {\n",
       "        text-align: right;\n",
       "    }\n",
       "</style>\n",
       "<table border=\"1\" class=\"dataframe\">\n",
       "  <thead>\n",
       "    <tr style=\"text-align: right;\">\n",
       "      <th></th>\n",
       "      <th>0.1</th>\n",
       "      <th>0.3</th>\n",
       "      <th>0.5</th>\n",
       "      <th>0.7</th>\n",
       "      <th>0.9</th>\n",
       "    </tr>\n",
       "  </thead>\n",
       "  <tbody>\n",
       "    <tr>\n",
       "      <th>linear</th>\n",
       "      <td>0.998588</td>\n",
       "      <td>0.998588</td>\n",
       "      <td>0.998588</td>\n",
       "      <td>0.998588</td>\n",
       "      <td>0.998588</td>\n",
       "    </tr>\n",
       "    <tr>\n",
       "      <th>poly</th>\n",
       "      <td>0.997187</td>\n",
       "      <td>0.998588</td>\n",
       "      <td>1.0</td>\n",
       "      <td>1.0</td>\n",
       "      <td>1.0</td>\n",
       "    </tr>\n",
       "    <tr>\n",
       "      <th>rbf</th>\n",
       "      <td>0.991562</td>\n",
       "      <td>0.997188</td>\n",
       "      <td>0.997188</td>\n",
       "      <td>0.997188</td>\n",
       "      <td>0.997186</td>\n",
       "    </tr>\n",
       "    <tr>\n",
       "      <th>sigmoid</th>\n",
       "      <td>0.997163</td>\n",
       "      <td>0.998588</td>\n",
       "      <td>0.998588</td>\n",
       "      <td>0.998588</td>\n",
       "      <td>0.998588</td>\n",
       "    </tr>\n",
       "  </tbody>\n",
       "</table>\n",
       "</div>"
      ],
      "text/plain": [
       "              0.1       0.3       0.5       0.7       0.9\n",
       "linear   0.998588  0.998588  0.998588  0.998588  0.998588\n",
       "poly     0.997187  0.998588       1.0       1.0       1.0\n",
       "rbf      0.991562  0.997188  0.997188  0.997188  0.997186\n",
       "sigmoid  0.997163  0.998588  0.998588  0.998588  0.998588"
      ]
     },
     "execution_count": 17,
     "metadata": {},
     "output_type": "execute_result"
    }
   ],
   "source": [
    "precision_report"
   ]
  },
  {
   "cell_type": "code",
   "execution_count": 18,
   "metadata": {},
   "outputs": [
    {
     "data": {
      "text/html": [
       "<div>\n",
       "<style scoped>\n",
       "    .dataframe tbody tr th:only-of-type {\n",
       "        vertical-align: middle;\n",
       "    }\n",
       "\n",
       "    .dataframe tbody tr th {\n",
       "        vertical-align: top;\n",
       "    }\n",
       "\n",
       "    .dataframe thead th {\n",
       "        text-align: right;\n",
       "    }\n",
       "</style>\n",
       "<table border=\"1\" class=\"dataframe\">\n",
       "  <thead>\n",
       "    <tr style=\"text-align: right;\">\n",
       "      <th></th>\n",
       "      <th>0.1</th>\n",
       "      <th>0.3</th>\n",
       "      <th>0.5</th>\n",
       "      <th>0.7</th>\n",
       "      <th>0.9</th>\n",
       "    </tr>\n",
       "  </thead>\n",
       "  <tbody>\n",
       "    <tr>\n",
       "      <th>linear</th>\n",
       "      <td>0.998582</td>\n",
       "      <td>0.998582</td>\n",
       "      <td>0.998582</td>\n",
       "      <td>0.998582</td>\n",
       "      <td>0.998582</td>\n",
       "    </tr>\n",
       "    <tr>\n",
       "      <th>poly</th>\n",
       "      <td>0.997163</td>\n",
       "      <td>0.998582</td>\n",
       "      <td>1.0</td>\n",
       "      <td>1.0</td>\n",
       "      <td>1.0</td>\n",
       "    </tr>\n",
       "    <tr>\n",
       "      <th>rbf</th>\n",
       "      <td>0.991489</td>\n",
       "      <td>0.997163</td>\n",
       "      <td>0.997163</td>\n",
       "      <td>0.997163</td>\n",
       "      <td>0.997163</td>\n",
       "    </tr>\n",
       "    <tr>\n",
       "      <th>sigmoid</th>\n",
       "      <td>0.997163</td>\n",
       "      <td>0.998582</td>\n",
       "      <td>0.998582</td>\n",
       "      <td>0.998582</td>\n",
       "      <td>0.998582</td>\n",
       "    </tr>\n",
       "  </tbody>\n",
       "</table>\n",
       "</div>"
      ],
      "text/plain": [
       "              0.1       0.3       0.5       0.7       0.9\n",
       "linear   0.998582  0.998582  0.998582  0.998582  0.998582\n",
       "poly     0.997163  0.998582       1.0       1.0       1.0\n",
       "rbf      0.991489  0.997163  0.997163  0.997163  0.997163\n",
       "sigmoid  0.997163  0.998582  0.998582  0.998582  0.998582"
      ]
     },
     "execution_count": 18,
     "metadata": {},
     "output_type": "execute_result"
    }
   ],
   "source": [
    "recall_report"
   ]
  },
  {
   "cell_type": "code",
   "execution_count": 19,
   "metadata": {},
   "outputs": [
    {
     "data": {
      "text/html": [
       "<div>\n",
       "<style scoped>\n",
       "    .dataframe tbody tr th:only-of-type {\n",
       "        vertical-align: middle;\n",
       "    }\n",
       "\n",
       "    .dataframe tbody tr th {\n",
       "        vertical-align: top;\n",
       "    }\n",
       "\n",
       "    .dataframe thead th {\n",
       "        text-align: right;\n",
       "    }\n",
       "</style>\n",
       "<table border=\"1\" class=\"dataframe\">\n",
       "  <thead>\n",
       "    <tr style=\"text-align: right;\">\n",
       "      <th></th>\n",
       "      <th>0.1</th>\n",
       "      <th>0.3</th>\n",
       "      <th>0.5</th>\n",
       "      <th>0.7</th>\n",
       "      <th>0.9</th>\n",
       "    </tr>\n",
       "  </thead>\n",
       "  <tbody>\n",
       "    <tr>\n",
       "      <th>linear</th>\n",
       "      <td>0.998582</td>\n",
       "      <td>0.998582</td>\n",
       "      <td>0.998582</td>\n",
       "      <td>0.998582</td>\n",
       "      <td>0.998582</td>\n",
       "    </tr>\n",
       "    <tr>\n",
       "      <th>poly</th>\n",
       "      <td>0.997163</td>\n",
       "      <td>0.998582</td>\n",
       "      <td>1.0</td>\n",
       "      <td>1.0</td>\n",
       "      <td>1.0</td>\n",
       "    </tr>\n",
       "    <tr>\n",
       "      <th>rbf</th>\n",
       "      <td>0.991478</td>\n",
       "      <td>0.997163</td>\n",
       "      <td>0.997163</td>\n",
       "      <td>0.997163</td>\n",
       "      <td>0.997163</td>\n",
       "    </tr>\n",
       "    <tr>\n",
       "      <th>sigmoid</th>\n",
       "      <td>0.997163</td>\n",
       "      <td>0.998582</td>\n",
       "      <td>0.998582</td>\n",
       "      <td>0.998582</td>\n",
       "      <td>0.998582</td>\n",
       "    </tr>\n",
       "  </tbody>\n",
       "</table>\n",
       "</div>"
      ],
      "text/plain": [
       "              0.1       0.3       0.5       0.7       0.9\n",
       "linear   0.998582  0.998582  0.998582  0.998582  0.998582\n",
       "poly     0.997163  0.998582       1.0       1.0       1.0\n",
       "rbf      0.991478  0.997163  0.997163  0.997163  0.997163\n",
       "sigmoid  0.997163  0.998582  0.998582  0.998582  0.998582"
      ]
     },
     "execution_count": 19,
     "metadata": {},
     "output_type": "execute_result"
    }
   ],
   "source": [
    "f1_report"
   ]
  },
  {
   "cell_type": "code",
   "execution_count": 21,
   "metadata": {},
   "outputs": [
    {
     "name": "stdout",
     "output_type": "stream",
     "text": [
      "Training...\n",
      "Evaluating...\n",
      "Accuracy on validation dataset: 0.99\n",
      "Saving model...\n"
     ]
    }
   ],
   "source": [
    "feature_extracter = FeatureExtracter(**sourcer_params)\n",
    "model = SVMObjectClassifier(kernel='rbf', C=0.5)\n",
    "model.set_feature_extracter(feature_extracter)\n",
    "print('Training...')\n",
    "model.train(X_train, y_train)\n",
    "print('Evaluating...')\n",
    "model.evaluate(X_test, y_test)\n",
    "print('Saving model...')\n",
    "model.save(save_path)"
   ]
  },
  {
   "cell_type": "markdown",
   "metadata": {},
   "source": [
    "# With Augmentation"
   ]
  },
  {
   "cell_type": "code",
   "execution_count": 22,
   "metadata": {},
   "outputs": [
    {
     "name": "stdout",
     "output_type": "stream",
     "text": [
      "Number of objects:  1074\n",
      "Classes:  ['speedlimit', 'stop', 'crosswalk']\n"
     ]
    },
    {
     "data": {
      "image/png": "[encoded data removed]",
      "text/plain": [
       "<Figure size 500x200 with 1 Axes>"
      ]
     },
     "metadata": {},
     "output_type": "display_data"
    }
   ],
   "source": [
    "# Load dữ liệu từ tập dữ liệu biển báo giao thông\n",
    "X, y = load_traffic_signboard_dataset()\n",
    "# Tạo Series và đếm số lần xuất hiện của các giá trị\n",
    "count_series = pd.Series(y).value_counts()\n",
    "# Vẽ biểu đồ thanh\n",
    "ax = count_series.plot(kind='bar', title='Traffic Signboard Distribution', figsize=(5, 2))\n",
    "# Chỉnh nhãn trục x thành viết ngang\n",
    "plt.xticks(rotation=0)\n",
    "# Hiển thị biểu đồ\n",
    "plt.show()"
   ]
  },
  {
   "cell_type": "code",
   "execution_count": 23,
   "metadata": {},
   "outputs": [
    {
     "data": {
      "image/png": "[encoded data removed]",
      "text/plain": [
       "<Figure size 500x200 with 1 Axes>"
      ]
     },
     "metadata": {},
     "output_type": "display_data"
    }
   ],
   "source": [
    "# Tạo danh sách các ảnh biển báo \"crosswalk\"\n",
    "X_crosswalk = [X[index] for index in range(len(y)) if y[index] == \"crosswalk\"]\n",
    "\n",
    "# Tạo danh sách các ảnh biển báo \"stop\"\n",
    "X_stop = [X[index] for index in range(len(y)) if y[index] == \"stop\"]\n",
    "\n",
    "# Tính chiều dài mong muốn cho danh sách các ảnh \"crosswalk\" và \"stop\"\n",
    "crosswalk_desired_length = count_series.max() - len(X_crosswalk)\n",
    "stop_desired_length = count_series.max() - len(X_stop)\n",
    "\n",
    "# Tạo ảnh tăng cường cho danh sách ảnh \"crosswalk\" và \"stop\"\n",
    "X_crosswalk_augmented = generate_images(X_crosswalk, crosswalk_desired_length, plot=False)\n",
    "X_stop_augmented = generate_images(X_stop, stop_desired_length, plot=False)\n",
    "\n",
    "# Tạo nhãn mới cho các ảnh tăng cường\n",
    "y_crosswalk_augmented = [\"crosswalk\"] * len(X_crosswalk_augmented)\n",
    "y_stop_augmented = [\"stop\"] * len(X_stop_augmented)\n",
    "\n",
    "# Kết hợp danh sách ảnh gốc và ảnh tăng cường\n",
    "X = X + X_crosswalk_augmented + X_stop_augmented\n",
    "y = y + y_crosswalk_augmented + y_stop_augmented\n",
    "\n",
    "# Tạo Series và đếm số lần xuất hiện của các giá trị\n",
    "count_series = pd.Series(y).value_counts()\n",
    "\n",
    "# Vẽ biểu đồ thanh\n",
    "ax = count_series.plot(kind='bar', title='Traffic Signboard Distribution', figsize=(5, 2))\n",
    "\n",
    "# Chỉnh nhãn trục x thành viết ngang\n",
    "plt.xticks(rotation=0)\n",
    "\n",
    "# Hiển thị biểu đồ\n",
    "plt.show()\n"
   ]
  },
  {
   "cell_type": "code",
   "execution_count": 24,
   "metadata": {},
   "outputs": [],
   "source": [
    "sourcer_params = {               # hls, hsv, yuv, ycrcb \n",
    "  'spatial_size': (32, 32),            # (16, 16), (32, 32), (64, 64)\n",
    "  'orientations': 9,        # 6 - 12\n",
    "  'pixels_per_cell': 8,               # 8, 16\n",
    "  'cells_per_block': 2,                # 1, 2\n",
    "  'transform_sqrt': True,\n",
    "  'block_norm': 'L2',\n",
    "  'hog_visualize': False\n",
    "}\n",
    "save_path = './save_model'\n",
    "X_train, X_test, y_train, y_test = train_test_split(X, y, test_size=0.3, random_state=42, shuffle=True)\n",
    "acc_report = pd.DataFrame(columns=['0.1', '0.3', '0.5', '0.7', '0.9'], index=['linear', 'poly', 'rbf', 'sigmoid'])\n",
    "precision_report = pd.DataFrame(columns=['0.1', '0.3', '0.5', '0.7', '0.9'], index=['linear', 'poly', 'rbf', 'sigmoid'])\n",
    "recall_report = pd.DataFrame(columns=['0.1', '0.3', '0.5', '0.7', '0.9'], index=['linear', 'poly', 'rbf', 'sigmoid'])\n",
    "f1_report = pd.DataFrame(columns=['0.1', '0.3', '0.5', '0.7', '0.9'], index=['linear', 'poly', 'rbf', 'sigmoid'])\n",
    "\n",
    "C_list = [0.1, 0.3, 0.5, 0.7, 0.9]\n",
    "kernel_list = ['linear', 'poly', 'rbf', 'sigmoid']"
   ]
  },
  {
   "cell_type": "code",
   "execution_count": 25,
   "metadata": {},
   "outputs": [],
   "source": [
    "for kernel in kernel_list:\n",
    "    for C in C_list:\n",
    "        feature_extracter = FeatureExtracter(**sourcer_params)\n",
    "        model = SVMObjectClassifier(kernel=kernel, C=C)\n",
    "        model.set_feature_extracter(feature_extracter)\n",
    "        #print('Training...')\n",
    "        model.train(X_train, y_train)\n",
    "        #print('Evaluating...')\n",
    "        y_pred_labels = model.predict(X_test)[1]\n",
    "        report = classification_report(y_test, y_pred_labels, labels=list(set(y_test)), output_dict=True)\n",
    "        acc_report.loc[kernel, str(C)] = report['accuracy']\n",
    "        precision_report.loc[kernel, str(C)] = report['weighted avg']['precision']\n",
    "        recall_report.loc[kernel, str(C)] = report['weighted avg']['recall']\n",
    "        f1_report.loc[kernel, str(C)] = report['weighted avg']['f1-score']"
   ]
  },
  {
   "cell_type": "code",
   "execution_count": 26,
   "metadata": {},
   "outputs": [
    {
     "data": {
      "text/html": [
       "<div>\n",
       "<style scoped>\n",
       "    .dataframe tbody tr th:only-of-type {\n",
       "        vertical-align: middle;\n",
       "    }\n",
       "\n",
       "    .dataframe tbody tr th {\n",
       "        vertical-align: top;\n",
       "    }\n",
       "\n",
       "    .dataframe thead th {\n",
       "        text-align: right;\n",
       "    }\n",
       "</style>\n",
       "<table border=\"1\" class=\"dataframe\">\n",
       "  <thead>\n",
       "    <tr style=\"text-align: right;\">\n",
       "      <th></th>\n",
       "      <th>0.1</th>\n",
       "      <th>0.3</th>\n",
       "      <th>0.5</th>\n",
       "      <th>0.7</th>\n",
       "      <th>0.9</th>\n",
       "    </tr>\n",
       "  </thead>\n",
       "  <tbody>\n",
       "    <tr>\n",
       "      <th>linear</th>\n",
       "      <td>0.998582</td>\n",
       "      <td>0.998582</td>\n",
       "      <td>0.998582</td>\n",
       "      <td>0.998582</td>\n",
       "      <td>0.998582</td>\n",
       "    </tr>\n",
       "    <tr>\n",
       "      <th>poly</th>\n",
       "      <td>0.992908</td>\n",
       "      <td>0.998582</td>\n",
       "      <td>1.0</td>\n",
       "      <td>1.0</td>\n",
       "      <td>1.0</td>\n",
       "    </tr>\n",
       "    <tr>\n",
       "      <th>rbf</th>\n",
       "      <td>0.97305</td>\n",
       "      <td>0.978723</td>\n",
       "      <td>0.980142</td>\n",
       "      <td>0.98156</td>\n",
       "      <td>0.984397</td>\n",
       "    </tr>\n",
       "    <tr>\n",
       "      <th>sigmoid</th>\n",
       "      <td>0.995745</td>\n",
       "      <td>0.997163</td>\n",
       "      <td>0.998582</td>\n",
       "      <td>0.998582</td>\n",
       "      <td>0.998582</td>\n",
       "    </tr>\n",
       "  </tbody>\n",
       "</table>\n",
       "</div>"
      ],
      "text/plain": [
       "              0.1       0.3       0.5       0.7       0.9\n",
       "linear   0.998582  0.998582  0.998582  0.998582  0.998582\n",
       "poly     0.992908  0.998582       1.0       1.0       1.0\n",
       "rbf       0.97305  0.978723  0.980142   0.98156  0.984397\n",
       "sigmoid  0.995745  0.997163  0.998582  0.998582  0.998582"
      ]
     },
     "execution_count": 26,
     "metadata": {},
     "output_type": "execute_result"
    }
   ],
   "source": [
    "acc_report"
   ]
  },
  {
   "cell_type": "code",
   "execution_count": 27,
   "metadata": {},
   "outputs": [
    {
     "data": {
      "text/html": [
       "<div>\n",
       "<style scoped>\n",
       "    .dataframe tbody tr th:only-of-type {\n",
       "        vertical-align: middle;\n",
       "    }\n",
       "\n",
       "    .dataframe tbody tr th {\n",
       "        vertical-align: top;\n",
       "    }\n",
       "\n",
       "    .dataframe thead th {\n",
       "        text-align: right;\n",
       "    }\n",
       "</style>\n",
       "<table border=\"1\" class=\"dataframe\">\n",
       "  <thead>\n",
       "    <tr style=\"text-align: right;\">\n",
       "      <th></th>\n",
       "      <th>0.1</th>\n",
       "      <th>0.3</th>\n",
       "      <th>0.5</th>\n",
       "      <th>0.7</th>\n",
       "      <th>0.9</th>\n",
       "    </tr>\n",
       "  </thead>\n",
       "  <tbody>\n",
       "    <tr>\n",
       "      <th>linear</th>\n",
       "      <td>0.998588</td>\n",
       "      <td>0.998588</td>\n",
       "      <td>0.998588</td>\n",
       "      <td>0.998588</td>\n",
       "      <td>0.998588</td>\n",
       "    </tr>\n",
       "    <tr>\n",
       "      <th>poly</th>\n",
       "      <td>0.992959</td>\n",
       "      <td>0.998588</td>\n",
       "      <td>1.0</td>\n",
       "      <td>1.0</td>\n",
       "      <td>1.0</td>\n",
       "    </tr>\n",
       "    <tr>\n",
       "      <th>rbf</th>\n",
       "      <td>0.973829</td>\n",
       "      <td>0.97955</td>\n",
       "      <td>0.981078</td>\n",
       "      <td>0.982547</td>\n",
       "      <td>0.985109</td>\n",
       "    </tr>\n",
       "    <tr>\n",
       "      <th>sigmoid</th>\n",
       "      <td>0.995763</td>\n",
       "      <td>0.997163</td>\n",
       "      <td>0.998588</td>\n",
       "      <td>0.998588</td>\n",
       "      <td>0.998588</td>\n",
       "    </tr>\n",
       "  </tbody>\n",
       "</table>\n",
       "</div>"
      ],
      "text/plain": [
       "              0.1       0.3       0.5       0.7       0.9\n",
       "linear   0.998588  0.998588  0.998588  0.998588  0.998588\n",
       "poly     0.992959  0.998588       1.0       1.0       1.0\n",
       "rbf      0.973829   0.97955  0.981078  0.982547  0.985109\n",
       "sigmoid  0.995763  0.997163  0.998588  0.998588  0.998588"
      ]
     },
     "execution_count": 27,
     "metadata": {},
     "output_type": "execute_result"
    }
   ],
   "source": [
    "precision_report"
   ]
  },
  {
   "cell_type": "code",
   "execution_count": 28,
   "metadata": {},
   "outputs": [
    {
     "data": {
      "text/html": [
       "<div>\n",
       "<style scoped>\n",
       "    .dataframe tbody tr th:only-of-type {\n",
       "        vertical-align: middle;\n",
       "    }\n",
       "\n",
       "    .dataframe tbody tr th {\n",
       "        vertical-align: top;\n",
       "    }\n",
       "\n",
       "    .dataframe thead th {\n",
       "        text-align: right;\n",
       "    }\n",
       "</style>\n",
       "<table border=\"1\" class=\"dataframe\">\n",
       "  <thead>\n",
       "    <tr style=\"text-align: right;\">\n",
       "      <th></th>\n",
       "      <th>0.1</th>\n",
       "      <th>0.3</th>\n",
       "      <th>0.5</th>\n",
       "      <th>0.7</th>\n",
       "      <th>0.9</th>\n",
       "    </tr>\n",
       "  </thead>\n",
       "  <tbody>\n",
       "    <tr>\n",
       "      <th>linear</th>\n",
       "      <td>0.998582</td>\n",
       "      <td>0.998582</td>\n",
       "      <td>0.998582</td>\n",
       "      <td>0.998582</td>\n",
       "      <td>0.998582</td>\n",
       "    </tr>\n",
       "    <tr>\n",
       "      <th>poly</th>\n",
       "      <td>0.992908</td>\n",
       "      <td>0.998582</td>\n",
       "      <td>1.0</td>\n",
       "      <td>1.0</td>\n",
       "      <td>1.0</td>\n",
       "    </tr>\n",
       "    <tr>\n",
       "      <th>rbf</th>\n",
       "      <td>0.97305</td>\n",
       "      <td>0.978723</td>\n",
       "      <td>0.980142</td>\n",
       "      <td>0.98156</td>\n",
       "      <td>0.984397</td>\n",
       "    </tr>\n",
       "    <tr>\n",
       "      <th>sigmoid</th>\n",
       "      <td>0.995745</td>\n",
       "      <td>0.997163</td>\n",
       "      <td>0.998582</td>\n",
       "      <td>0.998582</td>\n",
       "      <td>0.998582</td>\n",
       "    </tr>\n",
       "  </tbody>\n",
       "</table>\n",
       "</div>"
      ],
      "text/plain": [
       "              0.1       0.3       0.5       0.7       0.9\n",
       "linear   0.998582  0.998582  0.998582  0.998582  0.998582\n",
       "poly     0.992908  0.998582       1.0       1.0       1.0\n",
       "rbf       0.97305  0.978723  0.980142   0.98156  0.984397\n",
       "sigmoid  0.995745  0.997163  0.998582  0.998582  0.998582"
      ]
     },
     "execution_count": 28,
     "metadata": {},
     "output_type": "execute_result"
    }
   ],
   "source": [
    "recall_report"
   ]
  },
  {
   "cell_type": "code",
   "execution_count": 29,
   "metadata": {},
   "outputs": [
    {
     "data": {
      "text/html": [
       "<div>\n",
       "<style scoped>\n",
       "    .dataframe tbody tr th:only-of-type {\n",
       "        vertical-align: middle;\n",
       "    }\n",
       "\n",
       "    .dataframe tbody tr th {\n",
       "        vertical-align: top;\n",
       "    }\n",
       "\n",
       "    .dataframe thead th {\n",
       "        text-align: right;\n",
       "    }\n",
       "</style>\n",
       "<table border=\"1\" class=\"dataframe\">\n",
       "  <thead>\n",
       "    <tr style=\"text-align: right;\">\n",
       "      <th></th>\n",
       "      <th>0.1</th>\n",
       "      <th>0.3</th>\n",
       "      <th>0.5</th>\n",
       "      <th>0.7</th>\n",
       "      <th>0.9</th>\n",
       "    </tr>\n",
       "  </thead>\n",
       "  <tbody>\n",
       "    <tr>\n",
       "      <th>linear</th>\n",
       "      <td>0.998582</td>\n",
       "      <td>0.998582</td>\n",
       "      <td>0.998582</td>\n",
       "      <td>0.998582</td>\n",
       "      <td>0.998582</td>\n",
       "    </tr>\n",
       "    <tr>\n",
       "      <th>poly</th>\n",
       "      <td>0.992907</td>\n",
       "      <td>0.998582</td>\n",
       "      <td>1.0</td>\n",
       "      <td>1.0</td>\n",
       "      <td>1.0</td>\n",
       "    </tr>\n",
       "    <tr>\n",
       "      <th>rbf</th>\n",
       "      <td>0.973125</td>\n",
       "      <td>0.97882</td>\n",
       "      <td>0.980235</td>\n",
       "      <td>0.981665</td>\n",
       "      <td>0.984448</td>\n",
       "    </tr>\n",
       "    <tr>\n",
       "      <th>sigmoid</th>\n",
       "      <td>0.995745</td>\n",
       "      <td>0.997163</td>\n",
       "      <td>0.998582</td>\n",
       "      <td>0.998582</td>\n",
       "      <td>0.998582</td>\n",
       "    </tr>\n",
       "  </tbody>\n",
       "</table>\n",
       "</div>"
      ],
      "text/plain": [
       "              0.1       0.3       0.5       0.7       0.9\n",
       "linear   0.998582  0.998582  0.998582  0.998582  0.998582\n",
       "poly     0.992907  0.998582       1.0       1.0       1.0\n",
       "rbf      0.973125   0.97882  0.980235  0.981665  0.984448\n",
       "sigmoid  0.995745  0.997163  0.998582  0.998582  0.998582"
      ]
     },
     "execution_count": 29,
     "metadata": {},
     "output_type": "execute_result"
    }
   ],
   "source": [
    "f1_report"
   ]
  },
  {
   "cell_type": "code",
   "execution_count": 30,
   "metadata": {},
   "outputs": [
    {
     "name": "stdout",
     "output_type": "stream",
     "text": [
      "Training...\n",
      "Evaluating...\n",
      "Accuracy on validation dataset: 0.94\n",
      "Saving model...\n"
     ]
    }
   ],
   "source": [
    "feature_extracter = FeatureExtracter(**sourcer_params)\n",
    "model = SVMObjectClassifier(kernel='rbf', C=0.1)\n",
    "model.set_feature_extracter(feature_extracter)\n",
    "print('Training...')\n",
    "model.train(X_train, y_train)\n",
    "print('Evaluating...')\n",
    "model.evaluate(X_test, y_test)\n",
    "print('Saving model...')\n",
    "model.save(save_path)"
   ]
  }
 ],
 "metadata": {
  "kernelspec": {
   "display_name": "object-detection",
   "language": "python",
   "name": "python3"
  },
  "language_info": {
   "codemirror_mode": {
    "name": "ipython",
    "version": 3
   },
   "file_extension": ".py",
   "mimetype": "text/x-python",
   "name": "python",
   "nbconvert_exporter": "python",
   "pygments_lexer": "ipython3",
   "version": "3.12.3"
  }
 },
 "nbformat": 4,
 "nbformat_minor": 2
}
